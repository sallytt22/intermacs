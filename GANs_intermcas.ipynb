{
 "cells": [
  {
   "cell_type": "code",
   "execution_count": 1,
   "metadata": {},
   "outputs": [],
   "source": [
    "import torch\n",
    "import torch.nn as nn\n",
    "import torch.optim as optim\n",
    "from torch.distributions.normal import Normal\n",
    "from torch.distributions.beta import Beta\n",
    "from torch.distributions.gamma import Gamma\n",
    "\n",
    "import numpy as np\n",
    "import pandas as pd\n",
    "import seaborn as sns\n",
    "import matplotlib.pyplot as plt"
   ]
  },
  {
   "cell_type": "markdown",
   "metadata": {},
   "source": [
    "## Simple GAN to learn a normal distribution w.r.t. one feature -- Age"
   ]
  },
  {
   "cell_type": "code",
   "execution_count": 2,
   "metadata": {},
   "outputs": [],
   "source": [
    "data_mean = 5\n",
    "data_stddev = 1\n",
    "\n",
    "Feature_Size = 1 \n",
    "\n",
    "Hidden_Size = 10\n",
    "\n",
    "# Generator \n",
    "g_input_size = Feature_Size \n",
    "g_hidden_size = Hidden_Size \n",
    "g_output_size = Feature_Size\n",
    "\n",
    "# Discriminator dimension \n",
    "d_input_size = Feature_Size\n",
    "d_hidden_size = Hidden_Size \n",
    "d_output_size = 1"
   ]
  },
  {
   "cell_type": "code",
   "execution_count": 3,
   "metadata": {},
   "outputs": [],
   "source": [
    "d_sample_size = 1000\n",
    "g_sample_size = 1000\n",
    "\n",
    "num_epochs = 5000\n",
    "print_interval = 500\n",
    "\n",
    "d_learning_rate = 0.0005\n",
    "g_learning_rate = 0.0005"
   ]
  },
  {
   "cell_type": "code",
   "execution_count": 4,
   "metadata": {},
   "outputs": [],
   "source": [
    "def get_real_sampler(mu, sigma):\n",
    "    dist = Beta( 1., 5. )\n",
    "    return lambda m, n: dist.sample( (m, n) ).requires_grad_() # real sample with size of m x n \n",
    "\n",
    "def get_noise_sampler():\n",
    "    return lambda m, n: torch.rand(m, n).requires_grad_()  # fake sample with size of m x n \n",
    "\n",
    "def get_noise_sampler_normal():\n",
    "    dist = Normal( 0, 1 )\n",
    "    return lambda m,n: dist.sample( (m, n) ).requires_grad_() # Standard-Normal-dist into generator\n",
    "\n",
    "actual_data = get_real_sampler( data_mean, data_stddev )\n",
    "#noise_data  = get_noise_sampler()\n",
    "noise_data  = get_noise_sampler_normal()"
   ]
  },
  {
   "cell_type": "markdown",
   "metadata": {},
   "source": [
    "## Real Data ~ N( 5, 1 ) with one feature -- Age "
   ]
  },
  {
   "cell_type": "code",
   "execution_count": 5,
   "metadata": {},
   "outputs": [
    {
     "data": {
      "text/plain": [
       "(1000, 1)"
      ]
     },
     "execution_count": 5,
     "metadata": {},
     "output_type": "execute_result"
    }
   ],
   "source": [
    "real_data = actual_data( d_sample_size, d_input_size )\n",
    "real = real_data.detach().numpy()\n",
    "real.shape"
   ]
  },
  {
   "cell_type": "code",
   "execution_count": 6,
   "metadata": {},
   "outputs": [
    {
     "data": {
      "text/plain": [
       "Text(0.5, 1.0, 'Real Data -- Age')"
      ]
     },
     "execution_count": 6,
     "metadata": {},
     "output_type": "execute_result"
    },
    {
     "data": {
      "image/png": "[encoded data removed]",
      "text/plain": [
       "<Figure size 432x288 with 1 Axes>"
      ]
     },
     "metadata": {
      "needs_background": "light"
     },
     "output_type": "display_data"
    }
   ],
   "source": [
    "sns.distplot(real[:,0]).set_title('Real Data -- Age') # one sample curve "
   ]
  },
  {
   "cell_type": "code",
   "execution_count": 7,
   "metadata": {},
   "outputs": [
    {
     "data": {
      "text/plain": [
       "0.16443482"
      ]
     },
     "execution_count": 7,
     "metadata": {},
     "output_type": "execute_result"
    }
   ],
   "source": [
    "np.mean(real)"
   ]
  },
  {
   "cell_type": "code",
   "execution_count": 8,
   "metadata": {},
   "outputs": [
    {
     "data": {
      "text/plain": [
       "0.1411316"
      ]
     },
     "execution_count": 8,
     "metadata": {},
     "output_type": "execute_result"
    }
   ],
   "source": [
    "np.std(real)"
   ]
  },
  {
   "cell_type": "markdown",
   "metadata": {},
   "source": [
    "## Noise ~ N( 0, 1 ) with one feature -- Age"
   ]
  },
  {
   "cell_type": "code",
   "execution_count": 9,
   "metadata": {},
   "outputs": [
    {
     "name": "stdout",
     "output_type": "stream",
     "text": [
      "torch.Size([1000, 1])\n"
     ]
    },
    {
     "data": {
      "text/plain": [
       "Text(0.5, 1.0, 'Noise Distribution -- Age')"
      ]
     },
     "execution_count": 9,
     "metadata": {},
     "output_type": "execute_result"
    },
    {
     "data": {
      "image/png": "[encoded data removed]",
      "text/plain": [
       "<Figure size 432x288 with 1 Axes>"
      ]
     },
     "metadata": {
      "needs_background": "light"
     },
     "output_type": "display_data"
    }
   ],
   "source": [
    "noise_d = noise_data( d_sample_size, g_input_size )\n",
    "print(noise_d.shape)\n",
    "noi = noise_d.detach().numpy()\n",
    "\n",
    "sns.distplot(noi[:,0]).set_title('Noise Distribution -- Age') # one noise curve "
   ]
  },
  {
   "cell_type": "code",
   "execution_count": 10,
   "metadata": {},
   "outputs": [],
   "source": [
    "class Generator(nn.Module):\n",
    "    def __init__(self, input_size, hidden_size, output_size):\n",
    "        super(Generator, self).__init__()\n",
    "        self.map1 = nn.Linear(input_size, hidden_size)\n",
    "        self.map2 = nn.Linear(hidden_size, hidden_size)\n",
    "        self.mape = nn.Linear(hidden_size, hidden_size)\n",
    "        self.map3 = nn.Linear(hidden_size, output_size)\n",
    "        self.xfer = torch.nn.SELU()\n",
    "    def forward(self, x):\n",
    "        x = self.xfer( self.map1(x) )\n",
    "        x = self.xfer( self.map2(x) )\n",
    "        x = self.xfer( self.mape(x) )\n",
    "        return torch.sigmoid( self.map3( x ) )\n",
    "    \n",
    "    \n",
    "class Discriminator(nn.Module):\n",
    "    def __init__(self, input_size, hidden_size, output_size):\n",
    "        super(Discriminator, self).__init__()\n",
    "        self.map1 = nn.Linear(input_size, hidden_size)\n",
    "        self.map2 = nn.Linear(hidden_size, hidden_size)\n",
    "        self.mape = nn.Linear(hidden_size, hidden_size)\n",
    "        self.map3 = nn.Linear(hidden_size, output_size)\n",
    "        self.elu = torch.nn.ELU()\n",
    "    def forward(self, x):\n",
    "        x = self.elu(self.map1(x))\n",
    "        x = self.elu(self.map2(x))\n",
    "        x = self.elu(self.mape(x))\n",
    "        return torch.sigmoid( self.map3(x) )"
   ]
  },
  {
   "cell_type": "markdown",
   "metadata": {},
   "source": [
    "### We use the Adam Optimizer with smaller learning rate."
   ]
  },
  {
   "cell_type": "code",
   "execution_count": 11,
   "metadata": {},
   "outputs": [],
   "source": [
    "G = Generator(input_size=g_input_size, hidden_size=g_hidden_size, output_size=g_output_size)\n",
    "D = Discriminator(input_size=d_input_size, hidden_size=d_hidden_size, output_size=d_output_size)\n",
    "\n",
    "criterion = nn.BCELoss()\n",
    "d_optimizer = optim.Adam(D.parameters(), lr=d_learning_rate ) #d_optimizer only trains D.parameters()\n",
    "g_optimizer = optim.Adam(G.parameters(), lr=g_learning_rate ) "
   ]
  },
  {
   "cell_type": "code",
   "execution_count": 12,
   "metadata": {},
   "outputs": [],
   "source": [
    "def train_D_on_actual() :\n",
    "    real_data = actual_data( d_sample_size, d_input_size )\n",
    "    real_decision = D( real_data ) \n",
    "    real_error = criterion( real_decision, torch.ones( d_sample_size, 1 ))  # ones = true\n",
    "    real_error.backward()\n",
    "    return real_error.item()\n",
    "    \n",
    "def train_D_on_generated() :\n",
    "    noise = noise_data( g_sample_size, g_input_size )\n",
    "    fake_data = G( noise ) \n",
    "    fake_decision = D( fake_data )\n",
    "    fake_error = criterion( fake_decision, torch.zeros( g_sample_size, 1 ))  # zeros = fake，\n",
    "    fake_error.backward()\n",
    "    return fake_error.item()\n",
    "    \n",
    "def train_G():\n",
    "    noise = noise_data( g_sample_size, g_input_size )\n",
    "    fake_data = G( noise )\n",
    "    fake_decision = D( fake_data )\n",
    "    error = criterion( fake_decision, torch.ones( g_sample_size, 1 ) ) \n",
    "    error.backward()\n",
    "    return error.item(), fake_data"
   ]
  },
  {
   "cell_type": "code",
   "execution_count": 13,
   "metadata": {},
   "outputs": [
    {
     "name": "stdout",
     "output_type": "stream",
     "text": [
      "Epoch    500. Loss_d 1.425. Loss_g 0.695\n",
      "Epoch   1000. Loss_d 1.309. Loss_g 0.744\n",
      "Epoch   1500. Loss_d 1.393. Loss_g 0.679\n",
      "Epoch   2000. Loss_d 1.335. Loss_g 0.742\n",
      "Epoch   2500. Loss_d 1.338. Loss_g 0.693\n",
      "Epoch   3000. Loss_d 1.079. Loss_g 0.860\n",
      "Epoch   3500. Loss_d 1.350. Loss_g 0.677\n",
      "Epoch   4000. Loss_d 1.294. Loss_g 0.802\n",
      "Epoch   4500. Loss_d 1.338. Loss_g 0.684\n",
      "Epoch   5000. Loss_d 1.446. Loss_g 0.733\n",
      "Training complete\n"
     ]
    }
   ],
   "source": [
    "losses = []\n",
    "for epoch in range(num_epochs):\n",
    "    D.zero_grad()\n",
    "    \n",
    "    # print (G.parameters().grad)\n",
    "    loss_d_real = train_D_on_actual()    \n",
    "    loss_d_fake = train_D_on_generated()\n",
    "    # print (G.parameters().grad)\n",
    "    d_optimizer.step()\n",
    "    \n",
    "    G.zero_grad()\n",
    "    loss_g,generated = train_G()\n",
    "    #mode_score(generated, real)\n",
    "    g_optimizer.step()\n",
    "    \n",
    "    \n",
    "    losses.append( loss_g )\n",
    "    if( epoch % print_interval) == (print_interval-1) :\n",
    "        print( \"Epoch %6d. Loss_d %5.3f. Loss_g %5.3f\" % ( epoch+1, loss_d_real + loss_d_fake, loss_g) )\n",
    "        #print( \"Epoch %6d. Loss_g %5.3f\" % ( epoch+1, loss_g ) )\n",
    "        \n",
    "print( \"Training complete\" )\n"
   ]
  },
  {
   "cell_type": "markdown",
   "metadata": {},
   "source": [
    "# Test"
   ]
  },
  {
   "cell_type": "code",
   "execution_count": 14,
   "metadata": {},
   "outputs": [
    {
     "name": "stdout",
     "output_type": "stream",
     "text": [
      "torch.Size([1000, 1])\n",
      "(1000, 1)\n"
     ]
    }
   ],
   "source": [
    "noise=noise_data( 1000, Feature_Size)\n",
    "print(noise.shape)\n",
    "generated_data = G(noise)\n",
    "d = generated_data.detach().numpy()\n",
    "print(d.shape)"
   ]
  },
  {
   "cell_type": "code",
   "execution_count": 15,
   "metadata": {},
   "outputs": [],
   "source": [
    "d_data = D (generated_data)\n",
    "d_data = d_data.detach().numpy()\n",
    "#print(d_data)"
   ]
  },
  {
   "cell_type": "code",
   "execution_count": 16,
   "metadata": {},
   "outputs": [],
   "source": [
    "# train D by D(generated) and D(real_data) to classify  \n",
    "# logistic regression to classify (score of D(generated) v.s. D(real_data))"
   ]
  },
  {
   "cell_type": "code",
   "execution_count": 17,
   "metadata": {},
   "outputs": [],
   "source": [
    "real_d = D (real_data)\n",
    "real_d = real_d.detach().numpy()\n",
    "#print(real_d)"
   ]
  },
  {
   "cell_type": "markdown",
   "metadata": {},
   "source": [
    "# Visualization -- Generated Age Distribution\n"
   ]
  },
  {
   "cell_type": "code",
   "execution_count": 18,
   "metadata": {},
   "outputs": [
    {
     "data": {
      "text/plain": [
       "Text(0.5, 1.0, 'Generated Age Distribution')"
      ]
     },
     "execution_count": 18,
     "metadata": {},
     "output_type": "execute_result"
    },
    {
     "data": {
      "image/png": "[encoded data removed]",
      "text/plain": [
       "<Figure size 432x288 with 1 Axes>"
      ]
     },
     "metadata": {},
     "output_type": "display_data"
    }
   ],
   "source": [
    "sns.set(color_codes=True)\n",
    "sns.distplot(d[:,0]).set_title('Generated Age Distribution')"
   ]
  },
  {
   "cell_type": "code",
   "execution_count": 19,
   "metadata": {},
   "outputs": [
    {
     "data": {
      "text/plain": [
       "0.42486602"
      ]
     },
     "execution_count": 19,
     "metadata": {},
     "output_type": "execute_result"
    }
   ],
   "source": [
    "np.mean(d)"
   ]
  },
  {
   "cell_type": "code",
   "execution_count": 20,
   "metadata": {},
   "outputs": [
    {
     "data": {
      "text/plain": [
       "0.044391792"
      ]
     },
     "execution_count": 20,
     "metadata": {},
     "output_type": "execute_result"
    }
   ],
   "source": [
    "np.std(d)"
   ]
  },
  {
   "cell_type": "code",
   "execution_count": null,
   "metadata": {},
   "outputs": [],
   "source": []
  },
  {
   "cell_type": "code",
   "execution_count": null,
   "metadata": {},
   "outputs": [],
   "source": []
  }
 ],
 "metadata": {
  "kernelspec": {
   "display_name": "Python 3",
   "language": "python",
   "name": "python3"
  },
  "language_info": {
   "codemirror_mode": {
    "name": "ipython",
    "version": 3
   },
   "file_extension": ".py",
   "mimetype": "text/x-python",
   "name": "python",
   "nbconvert_exporter": "python",
   "pygments_lexer": "ipython3",
   "version": "3.7.4"
  }
 },
 "nbformat": 4,
 "nbformat_minor": 2
}
